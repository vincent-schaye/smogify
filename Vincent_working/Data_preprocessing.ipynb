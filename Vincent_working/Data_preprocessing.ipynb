{
 "cells": [
  {
   "cell_type": "code",
   "execution_count": 2,
   "id": "4780e0b0-b394-43a1-bf47-9e74c6ad8f8a",
   "metadata": {},
   "outputs": [],
   "source": [
    "import numpy as np\n",
    "import pandas as pd\n",
    "import matplotlib.pyplot as plt\n",
    "import seaborn as sns\n",
    "\n",
    "from scipy import stats \n",
    "\n",
    "\n",
    "from sklearn.preprocessing import StandardScaler\n",
    "from sklearn.compose import ColumnTransformer, make_column_transformer\n",
    "from sklearn.pipeline import Pipeline, make_pipeline\n",
    "from sklearn.model_selection import train_test_split, cross_val_score, StratifiedKFold\n",
    "\n",
    "\n",
    "# machine-learning stack\n",
    "from sklearn.model_selection import train_test_split\n",
    "from sklearn.linear_model import LinearRegression\n",
    "from sklearn.impute import SimpleImputer\n",
    "from sklearn.preprocessing import (\n",
    "    OneHotEncoder,\n",
    "    StandardScaler,\n",
    "    MinMaxScaler,\n",
    "    PolynomialFeatures,\n",
    "    FunctionTransformer,\n",
    "    OrdinalEncoder)"
   ]
  },
  {
   "cell_type": "markdown",
   "id": "c2647b5f-f603-45ff-bf1a-81c5e05c8299",
   "metadata": {},
   "source": [
    "# Load data set"
   ]
  },
  {
   "cell_type": "code",
   "execution_count": null,
   "id": "128f0ca8-1c50-4579-afe2-03ab61c18caf",
   "metadata": {},
   "outputs": [],
   "source": [
    "data = pd.read_csv()"
   ]
  },
  {
   "cell_type": "markdown",
   "id": "784055a0-6d1b-4f28-8785-df5a79461dad",
   "metadata": {},
   "source": [
    "## Change Date to Date_DT to datetime format"
   ]
  },
  {
   "cell_type": "code",
   "execution_count": null,
   "id": "72ca9c21-dde8-425a-a88b-c81fffcbaf1d",
   "metadata": {},
   "outputs": [],
   "source": [
    "data['Date_DT'] = pd.to_datetime(data['Date'])\n",
    "data.drop('Date')"
   ]
  },
  {
   "cell_type": "markdown",
   "id": "93894ba4-d6c1-4ae8-8601-90f9e809f2e5",
   "metadata": {},
   "source": [
    "## Dropping unused columns from the start"
   ]
  },
  {
   "cell_type": "code",
   "execution_count": null,
   "id": "b981181a-e20e-4a47-a725-3e53373019f8",
   "metadata": {},
   "outputs": [],
   "source": [
    "# Drop the last 7 columns and there are TOO many missing values\n",
    "list_drop_col = ['L3_CH4_CH4_column_volume_mixing_ratio_dry_air',\n",
    "       'L3_CH4_aerosol_height', 'L3_CH4_aerosol_optical_depth',\n",
    "       'L3_CH4_sensor_azimuth_angle', 'L3_CH4_sensor_zenith_angle',\n",
    "       'L3_CH4_solar_azimuth_angle', 'L3_CH4_solar_zenith_angle']\n",
    "\n",
    "data = data.drop(list_drop_col, axis='columns')"
   ]
  },
  {
   "cell_type": "code",
   "execution_count": null,
   "id": "710354e2-cd1b-4b72-9403-cde3006dcd09",
   "metadata": {},
   "outputs": [],
   "source": [
    "data = data.drop(columns=[col for col in data.columns if 'azimuth' in col or 'zenith' in col])"
   ]
  },
  {
   "cell_type": "code",
   "execution_count": null,
   "id": "a8b1289d-fd15-41d0-8d1b-a7fe5421fff7",
   "metadata": {},
   "outputs": [],
   "source": [
    "data = data.drop(columns=['L3_NO2_sensor_altitude', 'L3_CO_sensor_altitude'])"
   ]
  },
  {
   "cell_type": "code",
   "execution_count": null,
   "id": "7c6bcce8-47a7-43f4-af7e-a3a66c9e0b75",
   "metadata": {},
   "outputs": [],
   "source": [
    "data.drop('L3_NO2_tropospheric_NO2_column_number_density', axis=1)"
   ]
  },
  {
   "cell_type": "markdown",
   "id": "639f9a7a-811d-475f-a206-90dd18c3f272",
   "metadata": {},
   "source": [
    "## Dropping unused rows"
   ]
  },
  {
   "cell_type": "code",
   "execution_count": null,
   "id": "aeb50aec-afaf-4d1a-a979-cd1b3f398116",
   "metadata": {},
   "outputs": [],
   "source": [
    "threshold = 60  # for example, rows with more than 3 missing values\n",
    "\n",
    "# Identify rows with more than `threshold` missing values\n",
    "rows_with_many_missing = data[data.isnull().sum(axis=1) > threshold]\n",
    "\n",
    "# View the rows with many missing values\n",
    "len(rows_with_many_missing)\n",
    "\n",
    "#drop them\n",
    "data = data[data.isnull().sum(axis=1) <= threshold]"
   ]
  },
  {
   "cell_type": "markdown",
   "id": "0e0b9dd8-9bce-43d3-bc30-7e92d292882e",
   "metadata": {},
   "source": [
    "## Prepare data set to interpolate null values in columns"
   ]
  },
  {
   "cell_type": "code",
   "execution_count": null,
   "id": "3f7d6214-9a0c-404b-8363-e6a4f07b8650",
   "metadata": {},
   "outputs": [],
   "source": [
    "# Set Multi Index with place and time\n",
    "data.set_index(['Place_ID', 'Date_DT'], inplace=True)"
   ]
  },
  {
   "cell_type": "code",
   "execution_count": null,
   "id": "9189ac5b-514c-4c8b-b496-5ac6051a8953",
   "metadata": {},
   "outputs": [],
   "source": [
    "# List of columns to interpolate\n",
    "columns_to_interpolate = ['target_variance', 'L3_NO2_NO2_column_number_density',\n",
    "       'L3_NO2_NO2_slant_column_number_density',\n",
    "       'L3_NO2_absorbing_aerosol_index', 'L3_NO2_cloud_fraction',\n",
    "       'L3_NO2_stratospheric_NO2_column_number_density',\n",
    "       'L3_NO2_tropopause_pressure', 'L3_O3_O3_column_number_density',\n",
    "       'L3_O3_O3_effective_temperature', 'L3_O3_cloud_fraction',\n",
    "       'L3_CO_CO_column_number_density', 'L3_CO_H2O_column_number_density',\n",
    "       'L3_CO_cloud_height', 'L3_HCHO_HCHO_slant_column_number_density',\n",
    "       'L3_HCHO_cloud_fraction',\n",
    "       'L3_HCHO_tropospheric_HCHO_column_number_density',\n",
    "       'L3_HCHO_tropospheric_HCHO_column_number_density_amf',\n",
    "       'L3_CLOUD_cloud_base_height', 'L3_CLOUD_cloud_base_pressure',\n",
    "       'L3_CLOUD_cloud_fraction', 'L3_CLOUD_cloud_optical_depth',\n",
    "       'L3_CLOUD_cloud_top_height', 'L3_CLOUD_cloud_top_pressure',\n",
    "       'L3_CLOUD_surface_albedo', 'L3_AER_AI_absorbing_aerosol_index',\n",
    "       'L3_AER_AI_sensor_altitude', 'L3_SO2_SO2_column_number_density',\n",
    "       'L3_SO2_SO2_column_number_density_amf',\n",
    "       'L3_SO2_SO2_slant_column_number_density',\n",
    "       'L3_SO2_absorbing_aerosol_index', 'L3_SO2_cloud_fraction']\n",
    "\n",
    "# Apply the interpolation for each column in the list\n",
    "data[columns_to_interpolate] = data.groupby(level='Place_ID')[columns_to_interpolate].transform(lambda group: group.interpolate(method='linear'))"
   ]
  },
  {
   "cell_type": "code",
   "execution_count": null,
   "id": "67004ac3-82ae-480b-898f-56166c3f4ef7",
   "metadata": {},
   "outputs": [],
   "source": [
    "# Reset Index of DF\n",
    "data = data.reset_index()"
   ]
  },
  {
   "cell_type": "code",
   "execution_count": null,
   "id": "77c5ed29-4dc7-4562-83c7-01e3d50434e4",
   "metadata": {},
   "outputs": [],
   "source": [
    "data = data.dropna()"
   ]
  },
  {
   "cell_type": "code",
   "execution_count": null,
   "id": "e87a9748-5690-406e-b50a-5bf0dc13a38b",
   "metadata": {},
   "outputs": [],
   "source": [
    "# Should have 44 columns here\n",
    "data.shape"
   ]
  },
  {
   "cell_type": "markdown",
   "id": "3e247443-cd2a-43cb-bfae-d6cc4a7c279a",
   "metadata": {},
   "source": [
    "## Pre-processing"
   ]
  },
  {
   "cell_type": "code",
   "execution_count": null,
   "id": "7433ef18-5318-4163-a4ac-de4fdc5ae723",
   "metadata": {},
   "outputs": [],
   "source": [
    "# Creating Day and Weekday flags\n",
    "data['DayOfWeek'] = data['Date_DT'].dt.dayofweek  # Monday=0, Sunday=6\n",
    "data['IsWeekend'] = data['DayOfWeek'].apply(lambda x: 1 if x >= 5 else 0)  # 1 for weekend, 0 for weekdays"
   ]
  },
  {
   "cell_type": "code",
   "execution_count": null,
   "id": "66ed44a8-695a-4c81-a61d-3be609e94e53",
   "metadata": {},
   "outputs": [],
   "source": [
    "X = data.drop(columns=['Date_DT', 'Place_ID X Date','target', 'target_min','target_max', 'target_variance', 'target_count'])\n",
    "y = data['target']"
   ]
  },
  {
   "cell_type": "code",
   "execution_count": null,
   "id": "eef38399-8c93-4d80-a4ed-838844d92955",
   "metadata": {},
   "outputs": [],
   "source": [
    "num_features = ['precipitable_water_entire_atmosphere',\n",
    "       'relative_humidity_2m_above_ground',\n",
    "       'specific_humidity_2m_above_ground', 'temperature_2m_above_ground',\n",
    "       'u_component_of_wind_10m_above_ground',\n",
    "       'v_component_of_wind_10m_above_ground',\n",
    "       'L3_NO2_NO2_column_number_density',\n",
    "       'L3_NO2_NO2_slant_column_number_density',\n",
    "       'L3_NO2_absorbing_aerosol_index', 'L3_NO2_cloud_fraction',\n",
    "       'L3_NO2_stratospheric_NO2_column_number_density',\n",
    "       'L3_NO2_tropopause_pressure', 'L3_O3_O3_column_number_density',\n",
    "       'L3_O3_O3_effective_temperature', 'L3_O3_cloud_fraction',\n",
    "       'L3_CO_CO_column_number_density', 'L3_CO_H2O_column_number_density',\n",
    "       'L3_CO_cloud_height', 'L3_HCHO_HCHO_slant_column_number_density',\n",
    "       'L3_HCHO_cloud_fraction',\n",
    "       'L3_HCHO_tropospheric_HCHO_column_number_density',\n",
    "       'L3_HCHO_tropospheric_HCHO_column_number_density_amf',\n",
    "       'L3_CLOUD_cloud_base_height', 'L3_CLOUD_cloud_base_pressure',\n",
    "       'L3_CLOUD_cloud_fraction', 'L3_CLOUD_cloud_optical_depth',\n",
    "       'L3_CLOUD_cloud_top_height', 'L3_CLOUD_cloud_top_pressure',\n",
    "       'L3_CLOUD_surface_albedo', 'L3_AER_AI_absorbing_aerosol_index',\n",
    "       'L3_AER_AI_sensor_altitude', 'L3_SO2_SO2_column_number_density',\n",
    "       'L3_SO2_SO2_column_number_density_amf',\n",
    "       'L3_SO2_SO2_slant_column_number_density',\n",
    "       'L3_SO2_absorbing_aerosol_index', 'L3_SO2_cloud_fraction']"
   ]
  },
  {
   "cell_type": "code",
   "execution_count": null,
   "id": "308e7223-7f56-4776-8751-38a5b28c7472",
   "metadata": {},
   "outputs": [],
   "source": [
    "cat_features = ['Place_ID','DayOfWeek','IsWeekend']"
   ]
  },
  {
   "cell_type": "code",
   "execution_count": null,
   "id": "0c414345-2b64-41b9-90d5-f862c18a723b",
   "metadata": {},
   "outputs": [],
   "source": [
    "# Continuous numerical features\n",
    "num_transformer = Pipeline([\n",
    "    ('imputer', SimpleImputer(strategy='mean')),\n",
    "    ('scaler', MinMaxScaler())\n",
    "])\n",
    "\n",
    "# Nominal Categorical features\n",
    "nominal_cat_transformer = Pipeline([\n",
    "    ('imputer', SimpleImputer(strategy='most_frequent')),\n",
    "    ('onehot', OneHotEncoder(drop='first', handle_unknown='infrequent_if_exist', min_frequency=0.01))\n",
    "])\n",
    "\n",
    "# Combine all transformers\n",
    "preprocessor = ColumnTransformer(\n",
    "    transformers=[\n",
    "        ('num', num_transformer, num_features),\n",
    "        ('nom', nominal_cat_transformer, cat_features)\n",
    "    ])"
   ]
  },
  {
   "cell_type": "code",
   "execution_count": null,
   "id": "d7ac87cc-4a61-456d-b429-b657a41f3ed6",
   "metadata": {},
   "outputs": [],
   "source": []
  }
 ],
 "metadata": {
  "kernelspec": {
   "display_name": "Python 3 (ipykernel)",
   "language": "python",
   "name": "python3"
  },
  "language_info": {
   "codemirror_mode": {
    "name": "ipython",
    "version": 3
   },
   "file_extension": ".py",
   "mimetype": "text/x-python",
   "name": "python",
   "nbconvert_exporter": "python",
   "pygments_lexer": "ipython3",
   "version": "3.11.3"
  }
 },
 "nbformat": 4,
 "nbformat_minor": 5
}
